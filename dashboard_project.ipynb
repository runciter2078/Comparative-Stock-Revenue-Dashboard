{
 "cells": [
  {
   "cell_type": "markdown",
   "metadata": {},
   "source": [
    "# Comparative Stock & Revenue Dashboard\n",
    "\n",
    "This notebook extracts historical stock data and revenue data for Tesla and GameStop using yfinance and web scraping, and then visualizes the data using interactive Plotly dashboards."
   ]
  },
  {
   "cell_type": "markdown",
   "metadata": {},
   "source": [
    "## Table of Contents\n",
    "\n",
    "1. **Question 1:** Extract Tesla Stock Data using yfinance\n",
    "2. **Question 2:** Extract Tesla Revenue Data via Web Scraping\n",
    "3. **Question 3:** Extract GameStop Stock Data using yfinance\n",
    "4. **Question 4:** Extract GameStop Revenue Data via Web Scraping\n",
    "5. **Question 5:** Plot Tesla Stock & Revenue Dashboard\n",
    "6. **Question 6:** Plot GameStop Stock & Revenue Dashboard"
   ]
  },
  {
   "cell_type": "code",
   "execution_count": null,
   "metadata": {},
   "outputs": [],
   "source": [
    "# Imports and Setup\n",
    "!pip install yfinance bs4 html5lib lxml pandas matplotlib plotly\n",
    "\n",
    "import yfinance as yf\n",
    "import pandas as pd\n",
    "import requests\n",
    "from bs4 import BeautifulSoup\n",
    "import matplotlib.pyplot as plt\n",
    "%matplotlib inline\n",
    "from plotly.subplots import make_subplots\n",
    "import plotly.graph_objects as go"
   ]
  },
  {
   "cell_type": "markdown",
   "metadata": {},
   "source": [
    "## Question 1: Extract Tesla Stock Data using yfinance\n",
    "\n",
    "This cell creates a Tesla ticker object, extracts historical stock data with a maximum period, resets the index, and displays the first five rows."
   ]
  },
  {
   "cell_type": "code",
   "execution_count": null,
   "metadata": {},
   "outputs": [],
   "source": [
    "# Question 1\n",
    "\n",
    "tesla = yf.Ticker(\"TSLA\")\n",
    "tesla_data = tesla.history(period=\"max\")\n",
    "tesla_data.reset_index(inplace=True)\n",
    "print(\"Question 1: Tesla Stock Data - First 5 rows:\")\n",
    "tesla_data.head()"
   ]
  },
  {
   "cell_type": "markdown",
   "metadata": {},
   "source": [
    "## Question 2: Extract Tesla Revenue Data via Web Scraping\n",
    "\n",
    "This cell downloads the Tesla revenue webpage, extracts the revenue table using pandas.read_html, cleans the data, and displays the last five rows. The table is selected by checking if its content contains the word \"Quarterly\" so that quarterly (not annual) data is obtained."
   ]
  },
  {
   "cell_type": "code",
   "execution_count": null,
   "metadata": {},
   "outputs": [],
   "source": [
    "# Question 2\n",
    "from io import StringIO\n",
    "\n",
    "url_tesla_revenue = \"https://cf-courses-data.s3.us.cloud-object-storage.appdomain.cloud/IBMDeveloperSkillsNetwork-PY0220EN-SkillsNetwork/labs/project/revenue.htm\"\n",
    "html_data_tesla = requests.get(url_tesla_revenue).text\n",
    "\n",
    "# Extract all tables from the HTML\n",
    "tesla_revenue_list = pd.read_html(StringIO(html_data_tesla))\n",
    "\n",
    "# Select the table that contains \"Quarterly\" in its content\n",
    "tesla_revenue = None\n",
    "for table in tesla_revenue_list:\n",
    "    if \"Quarterly\" in table.to_string():\n",
    "        tesla_revenue = table\n",
    "        break\n",
    "if tesla_revenue is None:\n",
    "    tesla_revenue = tesla_revenue_list[0]\n",
    "\n",
    "print(\"Columns in Tesla revenue table:\", tesla_revenue.columns.tolist())\n",
    "\n",
    "# Rename columns to \"Date\" and \"Revenue\"\n",
    "tesla_revenue.columns = [\"Date\", \"Revenue\"]\n",
    "\n",
    "# Clean the Revenue column: remove \"$\" and commas, then convert to numeric\n",
    "tesla_revenue[\"Revenue\"] = tesla_revenue[\"Revenue\"].str.replace(r\",|\\$\", \"\", regex=True)\n",
    "tesla_revenue[\"Revenue\"] = pd.to_numeric(tesla_revenue[\"Revenue\"], errors=\"coerce\")\n",
    "\n",
    "print(\"Question 2: Tesla Revenue Data - Last 5 rows:\")\n",
    "tesla_revenue.tail()"
   ]
  },
  {
   "cell_type": "markdown",
   "metadata": {},
   "source": [
    "## Question 3: Extract GameStop Stock Data using yfinance\n",
    "\n",
    "This cell creates a GameStop ticker object, extracts historical stock data with a maximum period, resets the index, and displays the first five rows."
   ]
  },
  {
   "cell_type": "code",
   "execution_count": null,
   "metadata": {},
   "outputs": [],
   "source": [
    "# Question 3\n",
    "\n",
    "gme = yf.Ticker(\"GME\")\n",
    "gme_data = gme.history(period=\"max\")\n",
    "gme_data.reset_index(inplace=True)\n",
    "print(\"Question 3: GameStop Stock Data - First 5 rows:\")\n",
    "gme_data.head()"
   ]
  },
  {
   "cell_type": "markdown",
   "metadata": {},
   "source": [
    "## Question 4: Extract GameStop Revenue Data via Web Scraping\n",
    "\n",
    "This cell downloads the GameStop revenue webpage (from stock.html), selects the table that contains quarterly revenue data (by searching for \"Quarterly\" in its content), cleans it, and displays the last five rows."
   ]
  },
  {
   "cell_type": "code",
   "execution_count": null,
   "metadata": {},
   "outputs": [],
   "source": [
    "# Question 4\n",
    "url_gme_revenue = \"https://cf-courses-data.s3.us.cloud-object-storage.appdomain.cloud/IBMDeveloperSkillsNetwork-PY0220EN-SkillsNetwork/labs/project/stock.html\"\n",
    "html_data_gme = requests.get(url_gme_revenue).text\n",
    "\n",
    "# Extract all tables from the HTML\n",
    "gme_revenue_list = pd.read_html(StringIO(html_data_gme))\n",
    "\n",
    "# Select the table that contains \"Quarterly\" in its content\n",
    "gme_revenue = None\n",
    "for table in gme_revenue_list:\n",
    "    if \"Quarterly\" in table.to_string():\n",
    "        gme_revenue = table\n",
    "        break\n",
    "if gme_revenue is None:\n",
    "    gme_revenue = gme_revenue_list[0]\n",
    "\n",
    "print(\"Columns in GameStop revenue table:\", gme_revenue.columns.tolist())\n",
    "\n",
    "# Rename columns to \"Date\" and \"Revenue\"\n",
    "gme_revenue.columns = [\"Date\", \"Revenue\"]\n",
    "\n",
    "# Clean the Revenue column: remove \"$\" and commas, then convert to numeric\n",
    "gme_revenue[\"Revenue\"] = gme_revenue[\"Revenue\"].str.replace(r\",|\\$\", \"\", regex=True)\n",
    "gme_revenue[\"Revenue\"] = pd.to_numeric(gme_revenue[\"Revenue\"], errors=\"coerce\")\n",
    "\n",
    "print(\"Question 4: GameStop Revenue Data - Last 5 rows:\")\n",
    "gme_revenue.tail()"
   ]
  },
  {
   "cell_type": "markdown",
   "metadata": {},
   "source": [
    "## Define the make_graph Function\n",
    "\n",
    "This function creates a dashboard with two subplots using Plotly: one for the historical stock closing price and one for the historical revenue data. It converts the \"Date\" columns to datetime (ensuring tz-naive) and filters the data up to specific dates before plotting."
   ]
  },
  {
   "cell_type": "code",
   "execution_count": null,
   "metadata": {},
   "outputs": [],
   "source": [
    "from plotly.subplots import make_subplots\n",
    "import plotly.graph_objects as go\n",
    "\n",
    "def remove_timezone(series):\n",
    "    # Convertir la serie a datetime\n",
    "    dt_series = pd.to_datetime(series, errors=\"coerce\")\n",
    "    # Si la serie es tz-aware, convertir a tz-naive; de lo contrario, forzar dtype\n",
    "    if dt_series.dt.tz is not None:\n",
    "        return dt_series.dt.tz_convert(None).astype(\"datetime64[ns]\")\n",
    "    else:\n",
    "        return dt_series.astype(\"datetime64[ns]\")\n",
    "\n",
    "def make_graph(stock_data, revenue_data, stock):\n",
    "    # Trabajar sobre copias para evitar modificar el original\n",
    "    stock_data = stock_data.copy()\n",
    "    revenue_data = revenue_data.copy()\n",
    "    \n",
    "    # Convertir las columnas \"Date\" a datetime tz-naive\n",
    "    stock_data.loc[:, \"Date\"] = remove_timezone(stock_data[\"Date\"])\n",
    "    revenue_data.loc[:, \"Date\"] = remove_timezone(revenue_data[\"Date\"])\n",
    "    \n",
    "    # Filtrar datos hasta las fechas indicadas\n",
    "    stock_data_specific = stock_data[stock_data.Date <= pd.to_datetime(\"2021-06-14\")]\n",
    "    revenue_data_specific = revenue_data[revenue_data.Date <= pd.to_datetime(\"2021-04-30\")]\n",
    "    \n",
    "    print(\"Number of revenue data rows after filtering:\", len(revenue_data_specific))\n",
    "    \n",
    "    # Crear subgráficas\n",
    "    fig = make_subplots(rows=2, cols=1, shared_xaxes=True, \n",
    "                        subplot_titles=(\"Historical Share Price\", \"Historical Revenue\"),\n",
    "                        vertical_spacing=0.3)\n",
    "    \n",
    "    # Traza para el precio de la acción\n",
    "    fig.add_trace(go.Scatter(\n",
    "        x=stock_data_specific.Date,\n",
    "        y=stock_data_specific.Close.astype(\"float\"),\n",
    "        name=\"Share Price\"\n",
    "    ), row=1, col=1)\n",
    "    \n",
    "    # Traza para los ingresos\n",
    "    fig.add_trace(go.Scatter(\n",
    "        x=revenue_data_specific.Date,\n",
    "        y=revenue_data_specific.Revenue.astype(\"float\"),\n",
    "        name=\"Revenue\"\n",
    "    ), row=2, col=1)\n",
    "    \n",
    "    fig.update_xaxes(title_text=\"Date\", row=1, col=1)\n",
    "    fig.update_xaxes(title_text=\"Date\", row=2, col=1)\n",
    "    fig.update_yaxes(title_text=\"Price (USD)\", row=1, col=1)\n",
    "    fig.update_yaxes(title_text=\"Revenue (USD Millions)\", row=2, col=1)\n",
    "    \n",
    "    fig.update_layout(\n",
    "        height=900,\n",
    "        title=stock,\n",
    "        showlegend=False,\n",
    "        xaxis_rangeslider_visible=True\n",
    "    )\n",
    "    \n",
    "    fig.show()\n"
   ]
  },
  {
   "cell_type": "markdown",
   "metadata": {},
   "source": [
    "## Question 5: Plot Tesla Stock & Revenue Dashboard\n",
    "\n",
    "This cell calls the `make_graph` function to display the Tesla dashboard graph with the historical stock price and revenue data."
   ]
  },
  {
   "cell_type": "code",
   "execution_count": null,
   "metadata": {},
   "outputs": [],
   "source": [
    "# Question 5\n",
    "make_graph(tesla_data, tesla_revenue, \"Tesla\")"
   ]
  },
  {
   "cell_type": "markdown",
   "metadata": {},
   "source": [
    "## Question 6: Plot GameStop Stock & Revenue Dashboard\n",
    "\n",
    "This cell calls the `make_graph` function to display the GameStop dashboard graph with the historical stock price and revenue data."
   ]
  },
  {
   "cell_type": "code",
   "execution_count": null,
   "metadata": {},
   "outputs": [],
   "source": [
    "# Question 6\n",
    "make_graph(gme_data, gme_revenue, \"GameStop\")"
   ]
  }
 ],
 "metadata": {
  "kernelspec": {
   "name": "python3",
   "display_name": "Python 3 (ipykernel)"
  },
  "language_info": {
   "name": "python",
   "version": "3.11"
  }
 },
 "nbformat": 4,
 "nbformat_minor": 5
}
