{
 "cells": [
  {
   "cell_type": "markdown",
   "metadata": {},
   "source": [
    "# Comparative Stock & Revenue Dashboard\n",
    "\n",
    "This notebook extracts historical stock data and revenue data for Tesla and GameStop using yfinance and web scraping, and then visualizes the data using interactive Plotly dashboards."
   ]
  },
  {
   "cell_type": "markdown",
   "metadata": {},
   "source": [
    "## Table of Contents\n",
    "\n",
    "1. **Question 1:** Extract Tesla Stock Data using yfinance\n",
    "2. **Question 2:** Extract Tesla Revenue Data via Web Scraping\n",
    "3. **Question 3:** Extract GameStop Stock Data using yfinance\n",
    "4. **Question 4:** Extract GameStop Revenue Data via Web Scraping\n",
    "5. **Question 5:** Plot Tesla Stock & Revenue Dashboard\n",
    "6. **Question 6:** Plot GameStop Stock & Revenue Dashboard"
   ]
  },
  {
   "cell_type": "code",
   "execution_count": null,
   "metadata": {},
   "outputs": [],
   "source": [
    "# Imports and Setup\n",
    "!pip install yfinance bs4 html5lib lxml pandas matplotlib plotly\n",
    "\n",
    "import yfinance as yf\n",
    "import pandas as pd\n",
    "import requests\n",
    "from bs4 import BeautifulSoup\n",
    "import matplotlib.pyplot as plt\n",
    "%matplotlib inline\n",
    "from plotly.subplots import make_subplots\n",
    "import plotly.graph_objects as go"
   ]
  },
  {
   "cell_type": "markdown",
   "metadata": {},
   "source": [
    "## Question 1: Extract Tesla Stock Data using yfinance\n",
    "\n",
    "This cell creates a Tesla ticker object, extracts historical stock data with a maximum period, resets the index, and displays the first five rows."
   ]
  },
  {
   "cell_type": "code",
   "execution_count": null,
   "metadata": {},
   "outputs": [],
   "source": [
    "# Question 1\n",
    "\n",
    "tesla = yf.Ticker(\"TSLA\")\n",
    "tesla_data = tesla.history(period=\"max\")\n",
    "tesla_data.reset_index(inplace=True)\n",
    "print(\"Question 1: Tesla Stock Data - First 5 rows:\")\n",
    "tesla_data.head()"
   ]
  },
  {
   "cell_type": "markdown",
   "metadata": {},
   "source": [
    "## Question 2: Extract Tesla Revenue Data via Web Scraping\n",
    "\n",
    "This cell downloads the Tesla revenue webpage, extracts the revenue table using pandas.read_html, cleans the data, and displays the last five rows."
   ]
  },
  {
   "cell_type": "code",
   "execution_count": null,
   "metadata": {},
   "outputs": [],
   "source": [
    "# Question 2\n",
    "from io import StringIO\n",
    "\n",
    "url_tesla_revenue = \"https://cf-courses-data.s3.us.cloud-object-storage.appdomain.cloud/IBMDeveloperSkillsNetwork-PY0220EN-SkillsNetwork/labs/project/revenue.htm\"\n",
    "html_data_tesla = requests.get(url_tesla_revenue).text\n",
    "\n",
    "# Wrap the HTML in a StringIO object to avoid the FutureWarning\n",
    "tesla_revenue_list = pd.read_html(StringIO(html_data_tesla))\n",
    "\n",
    "# Assume the first table is the revenue table\n",
    "tesla_revenue = tesla_revenue_list[0]\n",
    "\n",
    "# Print columns for debugging\n",
    "print(\"Columns in Tesla revenue table:\", tesla_revenue.columns.tolist())\n",
    "\n",
    "# Rename columns if necessary\n",
    "if list(tesla_revenue.columns) != [\"Date\", \"Revenue\"]:\n",
    "    tesla_revenue.columns = [\"Date\", \"Revenue\"]\n",
    "\n",
    "# Clean the Revenue column: remove \"$\" and commas, then convert to numeric\n",
    "tesla_revenue[\"Revenue\"] = tesla_revenue[\"Revenue\"].str.replace(r\",|\\$\", \"\", regex=True)\n",
    "tesla_revenue[\"Revenue\"] = pd.to_numeric(tesla_revenue[\"Revenue\"], errors=\"coerce\")\n",
    "\n",
    "print(\"Question 2: Tesla Revenue Data - Last 5 rows:\")\n",
    "tesla_revenue.tail()"
   ]
  },
  {
   "cell_type": "markdown",
   "metadata": {},
   "source": [
    "## Question 3: Extract GameStop Stock Data using yfinance\n",
    "\n",
    "This cell creates a GameStop ticker object, extracts historical stock data with a maximum period, resets the index, and displays the first five rows."
   ]
  },
  {
   "cell_type": "code",
   "execution_count": null,
   "metadata": {},
   "outputs": [],
   "source": [
    "# Question 3\n",
    "\n",
    "gme = yf.Ticker(\"GME\")\n",
    "gme_data = gme.history(period=\"max\")\n",
    "gme_data.reset_index(inplace=True)\n",
    "print(\"Question 3: GameStop Stock Data - First 5 rows:\")\n",
    "gme_data.head()"
   ]
  },
  {
   "cell_type": "markdown",
   "metadata": {},
   "source": [
    "## Question 4: Extract GameStop Revenue Data via Web Scraping\n",
    "\n",
    "This cell downloads the GameStop revenue webpage, extracts the revenue table, cleans the data, and displays the last five rows."
   ]
  },
  {
   "cell_type": "code",
   "execution_count": null,
   "metadata": {},
   "outputs": [],
   "source": [
    "# Question 4\n",
    "url_gme_revenue = \"https://cf-courses-data.s3.us.cloud-object-storage.appdomain.cloud/IBMDeveloperSkillsNetwork-PY0220EN-SkillsNetwork/labs/project/stock.html\"\n",
    "html_data_gme = requests.get(url_gme_revenue).text\n",
    "\n",
    "# Wrap the HTML in a StringIO object to avoid the FutureWarning\n",
    "from io import StringIO\n",
    "\n",
    "gme_revenue_list = pd.read_html(StringIO(html_data_gme))\n",
    "\n",
    "# Print columns for debugging\n",
    "print(\"Columns in GameStop revenue table:\", gme_revenue_list[0].columns.tolist())\n",
    "\n",
    "# Assume the first table is the revenue table\n",
    "gme_revenue = gme_revenue_list[0]\n",
    "if \"Revenue\" not in gme_revenue.columns:\n",
    "    gme_revenue.columns = [\"Date\", \"Revenue\"]\n",
    "\n",
    "# Clean the Revenue column\n",
    "gme_revenue[\"Revenue\"] = gme_revenue[\"Revenue\"].str.replace(r\",|\\$\", \"\", regex=True)\n",
    "gme_revenue[\"Revenue\"] = pd.to_numeric(gme_revenue[\"Revenue\"], errors=\"coerce\")\n",
    "\n",
    "print(\"Question 4: GameStop Revenue Data - Last 5 rows:\")\n",
    "gme_revenue.tail()"
   ]
  },
  {
   "cell_type": "markdown",
   "metadata": {},
   "source": [
    "## Define the make_graph Function\n",
    "\n",
    "This function creates a dashboard with two subplots using Plotly: one for historical stock closing price and one for historical revenue data. It filters the data up to specific dates and then plots the graphs."
   ]
  },
  {
   "cell_type": "code",
   "execution_count": null,
   "metadata": {},
   "outputs": [],
   "source": [
    "def make_graph(stock_data, revenue_data, stock):\n",
    "    # Convert the Date columns to datetime\n",
    "    stock_data[\"Date\"] = pd.to_datetime(stock_data[\"Date\"], errors=\"coerce\")\n",
    "    revenue_data[\"Date\"] = pd.to_datetime(revenue_data[\"Date\"], errors=\"coerce\")\n",
    "    \n",
    "    # Filter data up to specified dates\n",
    "    stock_data_specific = stock_data[stock_data.Date <= '2021-06-14']\n",
    "    revenue_data_specific = revenue_data[revenue_data.Date <= '2021-04-30']\n",
    "    \n",
    "    # Create subplots\n",
    "    fig = make_subplots(rows=2, cols=1, shared_xaxes=True, \n",
    "                        subplot_titles=(\"Historical Share Price\", \"Historical Revenue\"),\n",
    "                        vertical_spacing=0.3)\n",
    "    \n",
    "    # Add stock price trace\n",
    "    fig.add_trace(go.Scatter(\n",
    "        x=stock_data_specific.Date,\n",
    "        y=stock_data_specific.Close.astype(\"float\"),\n",
    "        name=\"Share Price\"\n",
    "    ), row=1, col=1)\n",
    "    \n",
    "    # Add revenue trace\n",
    "    fig.add_trace(go.Scatter(\n",
    "        x=revenue_data_specific.Date,\n",
    "        y=revenue_data_specific.Revenue.astype(\"float\"),\n",
    "        name=\"Revenue\"\n",
    "    ), row=2, col=1)\n",
    "    \n",
    "    fig.update_xaxes(title_text=\"Date\", row=1, col=1)\n",
    "    fig.update_xaxes(title_text=\"Date\", row=2, col=1)\n",
    "    fig.update_yaxes(title_text=\"Price (USD)\", row=1, col=1)\n",
    "    fig.update_yaxes(title_text=\"Revenue (USD Millions)\", row=2, col=1)\n",
    "    \n",
    "    fig.update_layout(\n",
    "        height=900,\n",
    "        title=stock,\n",
    "        showlegend=False,\n",
    "        xaxis_rangeslider_visible=True\n",
    "    )\n",
    "    \n",
    "    fig.show()\n"
   ]
  },
  {
   "cell_type": "markdown",
   "metadata": {},
   "source": [
    "## Question 5: Plot Tesla Stock & Revenue Dashboard\n",
    "\n",
    "This cell calls the `make_graph` function to display the Tesla dashboard graph with the historical stock price and revenue data."
   ]
  },
  {
   "cell_type": "code",
   "execution_count": null,
   "metadata": {},
   "outputs": [],
   "source": [
    "# Question 5\n",
    "make_graph(tesla_data, tesla_revenue, \"Tesla\")"
   ]
  },
  {
   "cell_type": "markdown",
   "metadata": {},
   "source": [
    "## Question 6: Plot GameStop Stock & Revenue Dashboard\n",
    "\n",
    "This cell calls the `make_graph` function to display the GameStop dashboard graph with the historical stock price and revenue data."
   ]
  },
  {
   "cell_type": "code",
   "execution_count": null,
   "metadata": {},
   "outputs": [],
   "source": [
    "# Question 6\n",
    "make_graph(gme_data, gme_revenue, \"GameStop\")"
   ]
  }
 ],
 "metadata": {
  "kernelspec": {
   "name": "python3",
   "display_name": "Python 3 (ipykernel)"
  },
  "language_info": {
   "name": "python",
   "version": "3.11"
  }
 },
 "nbformat": 4,
 "nbformat_minor": 5
}
